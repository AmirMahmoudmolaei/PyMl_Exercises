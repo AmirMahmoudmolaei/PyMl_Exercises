{
 "cells": [
  {
   "cell_type": "code",
   "execution_count": 2,
   "id": "ac6c1544-93fb-40de-bf6b-58b270237517",
   "metadata": {},
   "outputs": [],
   "source": [
    "import numpy as np"
   ]
  },
  {
   "cell_type": "markdown",
   "id": "de461c3b-97c3-49d4-92ce-2711a60759e0",
   "metadata": {
    "jp-MarkdownHeadingCollapsed": true,
    "tags": []
   },
   "source": [
    "# Precision loss is closer to us than you think.\n",
    "Create an array that starts at -0.6 and goes up to 0.2 in steps of 0.1 and store it in variable a4.\n",
    "\n",
    "(The number 0.2 itself is not in the array)"
   ]
  },
  {
   "cell_type": "code",
   "execution_count": 5,
   "id": "7502dcef-d4c0-459d-99d2-a18a9b61786e",
   "metadata": {},
   "outputs": [],
   "source": [
    "a4 = np.arange(-0.6, 0.2, 0.1)"
   ]
  },
  {
   "cell_type": "code",
   "execution_count": 6,
   "id": "8b48ffbd-034e-4f7b-9a3d-5f3f583b043e",
   "metadata": {},
   "outputs": [
    {
     "data": {
      "text/plain": [
       "array([-6.00000000e-01, -5.00000000e-01, -4.00000000e-01, -3.00000000e-01,\n",
       "       -2.00000000e-01, -1.00000000e-01, -1.11022302e-16,  1.00000000e-01])"
      ]
     },
     "execution_count": 6,
     "metadata": {},
     "output_type": "execute_result"
    }
   ],
   "source": [
    "a4"
   ]
  },
  {
   "cell_type": "markdown",
   "id": "89a282ed-499a-4fb7-bd94-339f063f47d2",
   "metadata": {
    "jp-MarkdownHeadingCollapsed": true,
    "tags": []
   },
   "source": [
    "# Diagonal 2-D array\n",
    "Create an 4×4 array that its main diameter is equal to 1 and other elements are equal to zero \n",
    "\n",
    "and store this variable in a7 variable"
   ]
  },
  {
   "cell_type": "code",
   "execution_count": 12,
   "id": "aae735d5-8185-49be-8091-ee79102bb569",
   "metadata": {},
   "outputs": [],
   "source": [
    "a7 = np.eye(4, dtype=int)"
   ]
  },
  {
   "cell_type": "code",
   "execution_count": 13,
   "id": "0d793e69-389f-4771-955a-7eee780a98b8",
   "metadata": {},
   "outputs": [
    {
     "data": {
      "text/plain": [
       "array([[1, 0, 0, 0],\n",
       "       [0, 1, 0, 0],\n",
       "       [0, 0, 1, 0],\n",
       "       [0, 0, 0, 1]])"
      ]
     },
     "execution_count": 13,
     "metadata": {},
     "output_type": "execute_result"
    }
   ],
   "source": [
    "a7"
   ]
  },
  {
   "cell_type": "markdown",
   "id": "01050986-dd19-4e77-80aa-8e57c3fc3166",
   "metadata": {
    "jp-MarkdownHeadingCollapsed": true,
    "tags": []
   },
   "source": [
    "# Upper Diagonal Matrix\n",
    "Create an 6×6 array that its second diameter above the main diameter is equal to 1 and other elements are equal to zero and store this variable in a8 variable"
   ]
  },
  {
   "cell_type": "code",
   "execution_count": 19,
   "id": "2cf3a047-c926-4475-adcc-b6c7a6ad01ef",
   "metadata": {},
   "outputs": [],
   "source": [
    "a8 = np.eye(6, k=2)"
   ]
  },
  {
   "cell_type": "code",
   "execution_count": 20,
   "id": "161a63a4-4ce0-4e74-a281-8a445026eb10",
   "metadata": {},
   "outputs": [
    {
     "data": {
      "text/plain": [
       "array([[0., 0., 1., 0., 0., 0.],\n",
       "       [0., 0., 0., 1., 0., 0.],\n",
       "       [0., 0., 0., 0., 1., 0.],\n",
       "       [0., 0., 0., 0., 0., 1.],\n",
       "       [0., 0., 0., 0., 0., 0.],\n",
       "       [0., 0., 0., 0., 0., 0.]])"
      ]
     },
     "execution_count": 20,
     "metadata": {},
     "output_type": "execute_result"
    }
   ],
   "source": [
    "a8"
   ]
  },
  {
   "cell_type": "markdown",
   "id": "1aa284bb-28aa-4c90-b8d6-5dfd4d115cc8",
   "metadata": {
    "jp-MarkdownHeadingCollapsed": true,
    "tags": []
   },
   "source": [
    "# Diagonal 2D Array\n",
    "Create a 5×5 array that it's main diameter contains the numbers from 1 to 125 with equal distance and other elements are equal to zero then store it in the a9 variable."
   ]
  },
  {
   "cell_type": "code",
   "execution_count": 22,
   "id": "732e8506-4084-43f8-a7d6-73c7f1098bea",
   "metadata": {},
   "outputs": [],
   "source": [
    "a9 = np.diag(np.linspace(1, 125, 5))"
   ]
  },
  {
   "cell_type": "code",
   "execution_count": 23,
   "id": "f4f3b873-9d65-4261-afc8-d09c04114239",
   "metadata": {},
   "outputs": [
    {
     "data": {
      "text/plain": [
       "array([[  1.,   0.,   0.,   0.,   0.],\n",
       "       [  0.,  32.,   0.,   0.,   0.],\n",
       "       [  0.,   0.,  63.,   0.,   0.],\n",
       "       [  0.,   0.,   0.,  94.,   0.],\n",
       "       [  0.,   0.,   0.,   0., 125.]])"
      ]
     },
     "execution_count": 23,
     "metadata": {},
     "output_type": "execute_result"
    }
   ],
   "source": [
    "a9"
   ]
  },
  {
   "cell_type": "markdown",
   "id": "b87e0922-009c-4ffd-bbc8-86894330c003",
   "metadata": {
    "jp-MarkdownHeadingCollapsed": true,
    "tags": []
   },
   "source": [
    "# Diagonal Array Indexing\n",
    "A 5×5 array is stored in a variable named z, store the value of the second diameter lower than the main diameter in a variable called a10"
   ]
  },
  {
   "cell_type": "code",
   "execution_count": 8,
   "id": "2d461240-f32b-47b6-b950-db0ae4c5c04f",
   "metadata": {},
   "outputs": [],
   "source": [
    "z = np.arange(25).reshape(5, 5)"
   ]
  },
  {
   "cell_type": "code",
   "execution_count": 11,
   "id": "7e397544-e209-45fe-9a34-1677ae546c5b",
   "metadata": {},
   "outputs": [
    {
     "data": {
      "text/plain": [
       "array([[ 0,  1,  2,  3,  4],\n",
       "       [ 5,  6,  7,  8,  9],\n",
       "       [10, 11, 12, 13, 14],\n",
       "       [15, 16, 17, 18, 19],\n",
       "       [20, 21, 22, 23, 24]])"
      ]
     },
     "execution_count": 11,
     "metadata": {},
     "output_type": "execute_result"
    }
   ],
   "source": [
    "z"
   ]
  },
  {
   "cell_type": "code",
   "execution_count": 9,
   "id": "92c6369d-7427-481d-9267-7d213917fd51",
   "metadata": {},
   "outputs": [],
   "source": [
    "a10 = np.diag(z, -2)"
   ]
  },
  {
   "cell_type": "code",
   "execution_count": 10,
   "id": "b7e22431-7cea-41af-9e31-f9cc4cd13432",
   "metadata": {},
   "outputs": [
    {
     "data": {
      "text/plain": [
       "array([10, 16, 22])"
      ]
     },
     "execution_count": 10,
     "metadata": {},
     "output_type": "execute_result"
    }
   ],
   "source": [
    "a10"
   ]
  },
  {
   "cell_type": "markdown",
   "id": "9c3e733b-83a4-467e-9221-78234a4acff1",
   "metadata": {
    "jp-MarkdownHeadingCollapsed": true,
    "tags": []
   },
   "source": [
    "# Random Array\n",
    "Create a 6x4 array with all random elements and store it in variable a13 ."
   ]
  },
  {
   "cell_type": "code",
   "execution_count": 13,
   "id": "638cf0fa-1cd7-44a9-8793-f7a73ce510d5",
   "metadata": {},
   "outputs": [],
   "source": [
    "rng = np.random.default_rng(seed=None)"
   ]
  },
  {
   "cell_type": "code",
   "execution_count": 15,
   "id": "3cc5844e-efbe-46d5-908f-69bbf68cf485",
   "metadata": {},
   "outputs": [
    {
     "data": {
      "text/plain": [
       "array([[0.28663319, 0.28124465, 0.49241091, 0.754318  ],\n",
       "       [0.43854998, 0.57989718, 0.26961229, 0.08495872],\n",
       "       [0.92849765, 0.55764499, 0.42571313, 0.11369205],\n",
       "       [0.30030378, 0.08130949, 0.70947495, 0.95837295],\n",
       "       [0.61448963, 0.59356239, 0.28537565, 0.19909576],\n",
       "       [0.01287736, 0.23425874, 0.78359459, 0.42139248]])"
      ]
     },
     "execution_count": 15,
     "metadata": {},
     "output_type": "execute_result"
    }
   ],
   "source": [
    "rng.random((6, 4))"
   ]
  },
  {
   "cell_type": "markdown",
   "id": "2874eac1-d979-4937-a24f-ea2f0f053b7b",
   "metadata": {
    "tags": []
   },
   "source": [
    "# An array with repeating rows\n",
    "Using numpy with one line of code, create an array similar to the one below and store it in the a16  variable.\n",
    "### array\n",
    "      ([[-inf,  nan,  inf],\n",
    "       [-inf,  nan,  inf],\n",
    "       [-inf,  nan,  inf],\n",
    "       [-inf,  nan,  inf],\n",
    "       [-inf,  nan,  inf],\n",
    "       [-inf,  nan,  inf]])"
   ]
  },
  {
   "cell_type": "code",
   "execution_count": 19,
   "id": "7640060a-16b7-4b0e-8413-89ecc7bc6ce0",
   "metadata": {},
   "outputs": [],
   "source": [
    "a16 = np.full((6, 3), [-np.inf, np.nan, np.inf])"
   ]
  },
  {
   "cell_type": "code",
   "execution_count": 20,
   "id": "2d5ee399-27a2-445e-944e-5d6b39f65ba3",
   "metadata": {},
   "outputs": [
    {
     "data": {
      "text/plain": [
       "array([[-inf,  nan,  inf],\n",
       "       [-inf,  nan,  inf],\n",
       "       [-inf,  nan,  inf],\n",
       "       [-inf,  nan,  inf],\n",
       "       [-inf,  nan,  inf],\n",
       "       [-inf,  nan,  inf]])"
      ]
     },
     "execution_count": 20,
     "metadata": {},
     "output_type": "execute_result"
    }
   ],
   "source": [
    "a16"
   ]
  },
  {
   "cell_type": "markdown",
   "id": "820b2457-4973-4535-9aea-990ce7836cbf",
   "metadata": {},
   "source": []
  },
  {
   "cell_type": "code",
   "execution_count": null,
   "id": "cf87907e-f974-4ae1-b959-63b41f90cb9b",
   "metadata": {},
   "outputs": [],
   "source": []
  },
  {
   "cell_type": "code",
   "execution_count": null,
   "id": "d0040d8e-484b-4d00-9b90-2e6a3647d01d",
   "metadata": {},
   "outputs": [],
   "source": []
  },
  {
   "cell_type": "code",
   "execution_count": null,
   "id": "5658738b-76a9-4849-8d47-0af47a3c3baf",
   "metadata": {},
   "outputs": [],
   "source": []
  }
 ],
 "metadata": {
  "kernelspec": {
   "display_name": "Python 3 (ipykernel)",
   "language": "python",
   "name": "python3"
  },
  "language_info": {
   "codemirror_mode": {
    "name": "ipython",
    "version": 3
   },
   "file_extension": ".py",
   "mimetype": "text/x-python",
   "name": "python",
   "nbconvert_exporter": "python",
   "pygments_lexer": "ipython3",
   "version": "3.8.13"
  }
 },
 "nbformat": 4,
 "nbformat_minor": 5
}
