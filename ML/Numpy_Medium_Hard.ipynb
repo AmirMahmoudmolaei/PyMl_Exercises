{
 "cells": [
  {
   "cell_type": "code",
   "execution_count": 1,
   "id": "ac6c1544-93fb-40de-bf6b-58b270237517",
   "metadata": {},
   "outputs": [],
   "source": [
    "import numpy as np"
   ]
  },
  {
   "cell_type": "markdown",
   "id": "de461c3b-97c3-49d4-92ce-2711a60759e0",
   "metadata": {
    "jp-MarkdownHeadingCollapsed": true,
    "tags": []
   },
   "source": [
    "# Precision loss is closer to us than you think.\n",
    "Create an array that starts at -0.6 and goes up to 0.2 in steps of 0.1 and store it in variable a4.\n",
    "\n",
    "(The number 0.2 itself is not in the array)"
   ]
  },
  {
   "cell_type": "code",
   "execution_count": 5,
   "id": "7502dcef-d4c0-459d-99d2-a18a9b61786e",
   "metadata": {},
   "outputs": [],
   "source": [
    "a4 = np.arange(-0.6, 0.2, 0.1)"
   ]
  },
  {
   "cell_type": "code",
   "execution_count": 6,
   "id": "8b48ffbd-034e-4f7b-9a3d-5f3f583b043e",
   "metadata": {},
   "outputs": [
    {
     "data": {
      "text/plain": [
       "array([-6.00000000e-01, -5.00000000e-01, -4.00000000e-01, -3.00000000e-01,\n",
       "       -2.00000000e-01, -1.00000000e-01, -1.11022302e-16,  1.00000000e-01])"
      ]
     },
     "execution_count": 6,
     "metadata": {},
     "output_type": "execute_result"
    }
   ],
   "source": [
    "a4"
   ]
  },
  {
   "cell_type": "markdown",
   "id": "89a282ed-499a-4fb7-bd94-339f063f47d2",
   "metadata": {
    "jp-MarkdownHeadingCollapsed": true,
    "tags": []
   },
   "source": [
    "# Diagonal 2-D array\n",
    "Create an 4×4 array that its main diameter is equal to 1 and other elements are equal to zero \n",
    "\n",
    "and store this variable in a7 variable"
   ]
  },
  {
   "cell_type": "code",
   "execution_count": 12,
   "id": "aae735d5-8185-49be-8091-ee79102bb569",
   "metadata": {},
   "outputs": [],
   "source": [
    "a7 = np.eye(4, dtype=int)"
   ]
  },
  {
   "cell_type": "code",
   "execution_count": 13,
   "id": "0d793e69-389f-4771-955a-7eee780a98b8",
   "metadata": {},
   "outputs": [
    {
     "data": {
      "text/plain": [
       "array([[1, 0, 0, 0],\n",
       "       [0, 1, 0, 0],\n",
       "       [0, 0, 1, 0],\n",
       "       [0, 0, 0, 1]])"
      ]
     },
     "execution_count": 13,
     "metadata": {},
     "output_type": "execute_result"
    }
   ],
   "source": [
    "a7"
   ]
  },
  {
   "cell_type": "markdown",
   "id": "01050986-dd19-4e77-80aa-8e57c3fc3166",
   "metadata": {
    "jp-MarkdownHeadingCollapsed": true,
    "tags": []
   },
   "source": [
    "# Upper Diagonal Matrix\n",
    "Create an 6×6 array that its second diameter above the main diameter is equal to 1 and other elements are equal to zero and store this variable in a8 variable"
   ]
  },
  {
   "cell_type": "code",
   "execution_count": 19,
   "id": "2cf3a047-c926-4475-adcc-b6c7a6ad01ef",
   "metadata": {},
   "outputs": [],
   "source": [
    "a8 = np.eye(6, k=2)"
   ]
  },
  {
   "cell_type": "code",
   "execution_count": 20,
   "id": "161a63a4-4ce0-4e74-a281-8a445026eb10",
   "metadata": {},
   "outputs": [
    {
     "data": {
      "text/plain": [
       "array([[0., 0., 1., 0., 0., 0.],\n",
       "       [0., 0., 0., 1., 0., 0.],\n",
       "       [0., 0., 0., 0., 1., 0.],\n",
       "       [0., 0., 0., 0., 0., 1.],\n",
       "       [0., 0., 0., 0., 0., 0.],\n",
       "       [0., 0., 0., 0., 0., 0.]])"
      ]
     },
     "execution_count": 20,
     "metadata": {},
     "output_type": "execute_result"
    }
   ],
   "source": [
    "a8"
   ]
  },
  {
   "cell_type": "markdown",
   "id": "1aa284bb-28aa-4c90-b8d6-5dfd4d115cc8",
   "metadata": {},
   "source": [
    "# Diagonal 2D Array\n",
    "Create a 5×5 array that it's main diameter contains the numbers from 1 to 125 with equal distance and other elements are equal to zero then store it in the a9 variable."
   ]
  },
  {
   "cell_type": "code",
   "execution_count": 22,
   "id": "732e8506-4084-43f8-a7d6-73c7f1098bea",
   "metadata": {},
   "outputs": [],
   "source": [
    "a9 = np.diag(np.linspace(1, 125, 5))"
   ]
  },
  {
   "cell_type": "code",
   "execution_count": 23,
   "id": "f4f3b873-9d65-4261-afc8-d09c04114239",
   "metadata": {},
   "outputs": [
    {
     "data": {
      "text/plain": [
       "array([[  1.,   0.,   0.,   0.,   0.],\n",
       "       [  0.,  32.,   0.,   0.,   0.],\n",
       "       [  0.,   0.,  63.,   0.,   0.],\n",
       "       [  0.,   0.,   0.,  94.,   0.],\n",
       "       [  0.,   0.,   0.,   0., 125.]])"
      ]
     },
     "execution_count": 23,
     "metadata": {},
     "output_type": "execute_result"
    }
   ],
   "source": [
    "a9"
   ]
  },
  {
   "cell_type": "code",
   "execution_count": null,
   "id": "acae78a7-5a4c-4e79-a415-9d8caf427c7a",
   "metadata": {},
   "outputs": [],
   "source": []
  }
 ],
 "metadata": {
  "kernelspec": {
   "display_name": "Python 3 (ipykernel)",
   "language": "python",
   "name": "python3"
  },
  "language_info": {
   "codemirror_mode": {
    "name": "ipython",
    "version": 3
   },
   "file_extension": ".py",
   "mimetype": "text/x-python",
   "name": "python",
   "nbconvert_exporter": "python",
   "pygments_lexer": "ipython3",
   "version": "3.8.13"
  }
 },
 "nbformat": 4,
 "nbformat_minor": 5
}
