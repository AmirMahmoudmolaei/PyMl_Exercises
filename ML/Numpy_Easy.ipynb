{
 "cells": [
  {
   "cell_type": "code",
   "execution_count": 1,
   "id": "8862a5ef-b0ce-40e6-859e-6c26e5bf44b8",
   "metadata": {},
   "outputs": [],
   "source": [
    "import numpy as np"
   ]
  },
  {
   "cell_type": "markdown",
   "id": "ae821d3e-40ee-48b3-8d4a-d7efe4647752",
   "metadata": {
    "jp-MarkdownHeadingCollapsed": true,
    "tags": []
   },
   "source": [
    "# Empty and Full Numpy Array\n",
    "#### Create a 3x4 empty numpy array\n",
    "#### Create a 3x4 full numpy array where every element is equal to 55."
   ]
  },
  {
   "cell_type": "code",
   "execution_count": 6,
   "id": "93548632-b78d-4b79-9a31-fdea8301f01c",
   "metadata": {},
   "outputs": [
    {
     "name": "stdout",
     "output_type": "stream",
     "text": [
      "[[94623256455168              0   206158430253   193273528376]\n",
      " [  227633266738   210453397588   249108103218   223338299442]\n",
      " [  219043332154   197568495670   236223201332   386547056692]]\n"
     ]
    }
   ],
   "source": [
    "empty_array = np.empty((3, 4), dtype=int)\n",
    "print(empty_array)"
   ]
  },
  {
   "cell_type": "code",
   "execution_count": 7,
   "id": "a8690c53-5a19-4911-bd2f-1102e4523dd9",
   "metadata": {},
   "outputs": [
    {
     "name": "stdout",
     "output_type": "stream",
     "text": [
      "[[55. 55. 55. 55.]\n",
      " [55. 55. 55. 55.]\n",
      " [55. 55. 55. 55.]]\n"
     ]
    }
   ],
   "source": [
    "full_array = np.full((3, 4), 55, dtype=float)\n",
    "print(full_array)"
   ]
  },
  {
   "cell_type": "markdown",
   "id": "f4309b6b-8b65-4c8d-a623-9b3bfec432c9",
   "metadata": {
    "jp-MarkdownHeadingCollapsed": true,
    "tags": []
   },
   "source": [
    "# Find Numpy Non-Zero Mean\n",
    "Find the average of non-zero elements of a = np.array([1, 0, 2, 0, 3, 0, 0, 5, 6, 7, 5, 0, 56]) ."
   ]
  },
  {
   "cell_type": "code",
   "execution_count": 30,
   "id": "8d21b1f8-f9fc-4f9a-9c6c-e1a6b175f241",
   "metadata": {},
   "outputs": [],
   "source": [
    "a = np.array([1, 0, 2, 0, 3, 0, 0, 5, 6, 7, 5, 0, 56])"
   ]
  },
  {
   "cell_type": "code",
   "execution_count": 31,
   "id": "d0aa7b60-94b9-46f4-85ff-fce8ef811fc3",
   "metadata": {},
   "outputs": [
    {
     "data": {
      "text/plain": [
       "10.625"
      ]
     },
     "execution_count": 31,
     "metadata": {},
     "output_type": "execute_result"
    }
   ],
   "source": [
    "a[a != 0].mean()"
   ]
  },
  {
   "cell_type": "markdown",
   "id": "c11aa74b-b8e0-47ea-bff6-d461d3df944f",
   "metadata": {
    "jp-MarkdownHeadingCollapsed": true,
    "tags": []
   },
   "source": [
    "# Convert Python Sequences to 3D ndarray\n",
    "Create a nested list in Python and store it in the python_list3 variable. Then create a three-dimensional ndarray using the python_list3 variable and store it in the ndarray_3d variable."
   ]
  },
  {
   "cell_type": "code",
   "execution_count": 20,
   "id": "2416b932-c3c2-4ccf-8053-ffa98702e31b",
   "metadata": {},
   "outputs": [],
   "source": [
    "python_list3 = [[[1, 2, 3], [2, 3, 5], [3, 4, 6]], [[1, 2, 3], [2, 3, 5], [3, 4, 6]], [[1, 2, 3], [2, 3, 5], [3, 4, 6]]]"
   ]
  },
  {
   "cell_type": "code",
   "execution_count": 22,
   "id": "2f6a32e7-48ea-4260-a7e5-63fafa5c19fb",
   "metadata": {},
   "outputs": [
    {
     "data": {
      "text/plain": [
       "array([[[1, 2, 3],\n",
       "        [2, 3, 5],\n",
       "        [3, 4, 6]],\n",
       "\n",
       "       [[1, 2, 3],\n",
       "        [2, 3, 5],\n",
       "        [3, 4, 6]],\n",
       "\n",
       "       [[1, 2, 3],\n",
       "        [2, 3, 5],\n",
       "        [3, 4, 6]]])"
      ]
     },
     "execution_count": 22,
     "metadata": {},
     "output_type": "execute_result"
    }
   ],
   "source": [
    "ndarray_3d = np.array(python_list3)\n",
    "ndarray_3d"
   ]
  },
  {
   "cell_type": "markdown",
   "id": "f9bb307f-aa87-49ae-a856-8af1287be0f8",
   "metadata": {
    "jp-MarkdownHeadingCollapsed": true,
    "tags": []
   },
   "source": [
    "# An array with 4-byte elements\n",
    "Create a 2-dimensional array of size 3 x 4 named x, composed of 4-byte integer elements:"
   ]
  },
  {
   "cell_type": "code",
   "execution_count": 34,
   "id": "d8f7268d-71a7-4889-bc87-d7c6afc7c1fb",
   "metadata": {},
   "outputs": [
    {
     "data": {
      "text/plain": [
       "array([[6, 6, 6, 6],\n",
       "       [6, 6, 6, 6],\n",
       "       [6, 6, 6, 6]], dtype=int32)"
      ]
     },
     "execution_count": 34,
     "metadata": {},
     "output_type": "execute_result"
    }
   ],
   "source": [
    "np.full((3, 4) , 6, dtype='i4')"
   ]
  },
  {
   "cell_type": "markdown",
   "id": "0e0bc3e9-1616-49e5-821d-7c2f770b79cf",
   "metadata": {
    "jp-MarkdownHeadingCollapsed": true,
    "tags": []
   },
   "source": [
    "# Evenly Spaced Values Numpy Array\n",
    "Create an array containing the numbers 0 to 999 and store it in variable a1 ."
   ]
  },
  {
   "cell_type": "code",
   "execution_count": 2,
   "id": "2586edde-7de5-4c6c-ac22-f999e8ba9a08",
   "metadata": {},
   "outputs": [],
   "source": [
    "a1 = np.arange(0, 1000)"
   ]
  },
  {
   "cell_type": "code",
   "execution_count": 3,
   "id": "0dbc714f-a3fe-447c-9671-c49c5edda28b",
   "metadata": {},
   "outputs": [
    {
     "data": {
      "text/plain": [
       "array([  0,   1,   2,   3,   4,   5,   6,   7,   8,   9,  10,  11,  12,\n",
       "        13,  14,  15,  16,  17,  18,  19,  20,  21,  22,  23,  24,  25,\n",
       "        26,  27,  28,  29,  30,  31,  32,  33,  34,  35,  36,  37,  38,\n",
       "        39,  40,  41,  42,  43,  44,  45,  46,  47,  48,  49,  50,  51,\n",
       "        52,  53,  54,  55,  56,  57,  58,  59,  60,  61,  62,  63,  64,\n",
       "        65,  66,  67,  68,  69,  70,  71,  72,  73,  74,  75,  76,  77,\n",
       "        78,  79,  80,  81,  82,  83,  84,  85,  86,  87,  88,  89,  90,\n",
       "        91,  92,  93,  94,  95,  96,  97,  98,  99, 100, 101, 102, 103,\n",
       "       104, 105, 106, 107, 108, 109, 110, 111, 112, 113, 114, 115, 116,\n",
       "       117, 118, 119, 120, 121, 122, 123, 124, 125, 126, 127, 128, 129,\n",
       "       130, 131, 132, 133, 134, 135, 136, 137, 138, 139, 140, 141, 142,\n",
       "       143, 144, 145, 146, 147, 148, 149, 150, 151, 152, 153, 154, 155,\n",
       "       156, 157, 158, 159, 160, 161, 162, 163, 164, 165, 166, 167, 168,\n",
       "       169, 170, 171, 172, 173, 174, 175, 176, 177, 178, 179, 180, 181,\n",
       "       182, 183, 184, 185, 186, 187, 188, 189, 190, 191, 192, 193, 194,\n",
       "       195, 196, 197, 198, 199, 200, 201, 202, 203, 204, 205, 206, 207,\n",
       "       208, 209, 210, 211, 212, 213, 214, 215, 216, 217, 218, 219, 220,\n",
       "       221, 222, 223, 224, 225, 226, 227, 228, 229, 230, 231, 232, 233,\n",
       "       234, 235, 236, 237, 238, 239, 240, 241, 242, 243, 244, 245, 246,\n",
       "       247, 248, 249, 250, 251, 252, 253, 254, 255, 256, 257, 258, 259,\n",
       "       260, 261, 262, 263, 264, 265, 266, 267, 268, 269, 270, 271, 272,\n",
       "       273, 274, 275, 276, 277, 278, 279, 280, 281, 282, 283, 284, 285,\n",
       "       286, 287, 288, 289, 290, 291, 292, 293, 294, 295, 296, 297, 298,\n",
       "       299, 300, 301, 302, 303, 304, 305, 306, 307, 308, 309, 310, 311,\n",
       "       312, 313, 314, 315, 316, 317, 318, 319, 320, 321, 322, 323, 324,\n",
       "       325, 326, 327, 328, 329, 330, 331, 332, 333, 334, 335, 336, 337,\n",
       "       338, 339, 340, 341, 342, 343, 344, 345, 346, 347, 348, 349, 350,\n",
       "       351, 352, 353, 354, 355, 356, 357, 358, 359, 360, 361, 362, 363,\n",
       "       364, 365, 366, 367, 368, 369, 370, 371, 372, 373, 374, 375, 376,\n",
       "       377, 378, 379, 380, 381, 382, 383, 384, 385, 386, 387, 388, 389,\n",
       "       390, 391, 392, 393, 394, 395, 396, 397, 398, 399, 400, 401, 402,\n",
       "       403, 404, 405, 406, 407, 408, 409, 410, 411, 412, 413, 414, 415,\n",
       "       416, 417, 418, 419, 420, 421, 422, 423, 424, 425, 426, 427, 428,\n",
       "       429, 430, 431, 432, 433, 434, 435, 436, 437, 438, 439, 440, 441,\n",
       "       442, 443, 444, 445, 446, 447, 448, 449, 450, 451, 452, 453, 454,\n",
       "       455, 456, 457, 458, 459, 460, 461, 462, 463, 464, 465, 466, 467,\n",
       "       468, 469, 470, 471, 472, 473, 474, 475, 476, 477, 478, 479, 480,\n",
       "       481, 482, 483, 484, 485, 486, 487, 488, 489, 490, 491, 492, 493,\n",
       "       494, 495, 496, 497, 498, 499, 500, 501, 502, 503, 504, 505, 506,\n",
       "       507, 508, 509, 510, 511, 512, 513, 514, 515, 516, 517, 518, 519,\n",
       "       520, 521, 522, 523, 524, 525, 526, 527, 528, 529, 530, 531, 532,\n",
       "       533, 534, 535, 536, 537, 538, 539, 540, 541, 542, 543, 544, 545,\n",
       "       546, 547, 548, 549, 550, 551, 552, 553, 554, 555, 556, 557, 558,\n",
       "       559, 560, 561, 562, 563, 564, 565, 566, 567, 568, 569, 570, 571,\n",
       "       572, 573, 574, 575, 576, 577, 578, 579, 580, 581, 582, 583, 584,\n",
       "       585, 586, 587, 588, 589, 590, 591, 592, 593, 594, 595, 596, 597,\n",
       "       598, 599, 600, 601, 602, 603, 604, 605, 606, 607, 608, 609, 610,\n",
       "       611, 612, 613, 614, 615, 616, 617, 618, 619, 620, 621, 622, 623,\n",
       "       624, 625, 626, 627, 628, 629, 630, 631, 632, 633, 634, 635, 636,\n",
       "       637, 638, 639, 640, 641, 642, 643, 644, 645, 646, 647, 648, 649,\n",
       "       650, 651, 652, 653, 654, 655, 656, 657, 658, 659, 660, 661, 662,\n",
       "       663, 664, 665, 666, 667, 668, 669, 670, 671, 672, 673, 674, 675,\n",
       "       676, 677, 678, 679, 680, 681, 682, 683, 684, 685, 686, 687, 688,\n",
       "       689, 690, 691, 692, 693, 694, 695, 696, 697, 698, 699, 700, 701,\n",
       "       702, 703, 704, 705, 706, 707, 708, 709, 710, 711, 712, 713, 714,\n",
       "       715, 716, 717, 718, 719, 720, 721, 722, 723, 724, 725, 726, 727,\n",
       "       728, 729, 730, 731, 732, 733, 734, 735, 736, 737, 738, 739, 740,\n",
       "       741, 742, 743, 744, 745, 746, 747, 748, 749, 750, 751, 752, 753,\n",
       "       754, 755, 756, 757, 758, 759, 760, 761, 762, 763, 764, 765, 766,\n",
       "       767, 768, 769, 770, 771, 772, 773, 774, 775, 776, 777, 778, 779,\n",
       "       780, 781, 782, 783, 784, 785, 786, 787, 788, 789, 790, 791, 792,\n",
       "       793, 794, 795, 796, 797, 798, 799, 800, 801, 802, 803, 804, 805,\n",
       "       806, 807, 808, 809, 810, 811, 812, 813, 814, 815, 816, 817, 818,\n",
       "       819, 820, 821, 822, 823, 824, 825, 826, 827, 828, 829, 830, 831,\n",
       "       832, 833, 834, 835, 836, 837, 838, 839, 840, 841, 842, 843, 844,\n",
       "       845, 846, 847, 848, 849, 850, 851, 852, 853, 854, 855, 856, 857,\n",
       "       858, 859, 860, 861, 862, 863, 864, 865, 866, 867, 868, 869, 870,\n",
       "       871, 872, 873, 874, 875, 876, 877, 878, 879, 880, 881, 882, 883,\n",
       "       884, 885, 886, 887, 888, 889, 890, 891, 892, 893, 894, 895, 896,\n",
       "       897, 898, 899, 900, 901, 902, 903, 904, 905, 906, 907, 908, 909,\n",
       "       910, 911, 912, 913, 914, 915, 916, 917, 918, 919, 920, 921, 922,\n",
       "       923, 924, 925, 926, 927, 928, 929, 930, 931, 932, 933, 934, 935,\n",
       "       936, 937, 938, 939, 940, 941, 942, 943, 944, 945, 946, 947, 948,\n",
       "       949, 950, 951, 952, 953, 954, 955, 956, 957, 958, 959, 960, 961,\n",
       "       962, 963, 964, 965, 966, 967, 968, 969, 970, 971, 972, 973, 974,\n",
       "       975, 976, 977, 978, 979, 980, 981, 982, 983, 984, 985, 986, 987,\n",
       "       988, 989, 990, 991, 992, 993, 994, 995, 996, 997, 998, 999])"
      ]
     },
     "execution_count": 3,
     "metadata": {},
     "output_type": "execute_result"
    }
   ],
   "source": [
    "a1"
   ]
  },
  {
   "cell_type": "markdown",
   "id": "3a1174e0-3b18-45de-a2be-d68b2b530216",
   "metadata": {
    "jp-MarkdownHeadingCollapsed": true,
    "tags": []
   },
   "source": [
    "# End of the interval in ndarray in a range of numbers\n",
    "Create an array of dtype float containing the numbers -3 to 3 and store it in variable a2 .\n",
    "\n",
    "(The number 3 itself is not in the array)"
   ]
  },
  {
   "cell_type": "code",
   "execution_count": 6,
   "id": "c2da62ce-5e60-4c7e-adac-ba9a78f0859d",
   "metadata": {},
   "outputs": [],
   "source": [
    "a2 = np.arange(-3, 3, dtype='f4')"
   ]
  },
  {
   "cell_type": "code",
   "execution_count": 8,
   "id": "28f4c345-d36b-413e-a7f1-7cde840fbe73",
   "metadata": {},
   "outputs": [
    {
     "data": {
      "text/plain": [
       "array([-3., -2., -1.,  0.,  1.,  2.], dtype=float32)"
      ]
     },
     "execution_count": 8,
     "metadata": {},
     "output_type": "execute_result"
    }
   ],
   "source": [
    "a2"
   ]
  },
  {
   "cell_type": "markdown",
   "id": "3f3e8dbd-341d-418b-80f4-e2cee7731b4f",
   "metadata": {},
   "source": [
    "# Ants move in the numpy array\n",
    "Create an array that starts at 2 and goes up to 10 in steps of 0.1 and store it in variable a3\n",
    "\n",
    "(The number 10 itself is not in the array)"
   ]
  },
  {
   "cell_type": "code",
   "execution_count": 9,
   "id": "7aa7ba20-aa85-4241-9b7e-b5f655d639a8",
   "metadata": {},
   "outputs": [],
   "source": [
    "a3 = np.arange(2, 10, 0.1, dtype=float)"
   ]
  },
  {
   "cell_type": "code",
   "execution_count": 10,
   "id": "7481e35a-84c4-4b4a-9450-79c32edb1b6b",
   "metadata": {},
   "outputs": [
    {
     "data": {
      "text/plain": [
       "array([2. , 2.1, 2.2, 2.3, 2.4, 2.5, 2.6, 2.7, 2.8, 2.9, 3. , 3.1, 3.2,\n",
       "       3.3, 3.4, 3.5, 3.6, 3.7, 3.8, 3.9, 4. , 4.1, 4.2, 4.3, 4.4, 4.5,\n",
       "       4.6, 4.7, 4.8, 4.9, 5. , 5.1, 5.2, 5.3, 5.4, 5.5, 5.6, 5.7, 5.8,\n",
       "       5.9, 6. , 6.1, 6.2, 6.3, 6.4, 6.5, 6.6, 6.7, 6.8, 6.9, 7. , 7.1,\n",
       "       7.2, 7.3, 7.4, 7.5, 7.6, 7.7, 7.8, 7.9, 8. , 8.1, 8.2, 8.3, 8.4,\n",
       "       8.5, 8.6, 8.7, 8.8, 8.9, 9. , 9.1, 9.2, 9.3, 9.4, 9.5, 9.6, 9.7,\n",
       "       9.8, 9.9])"
      ]
     },
     "execution_count": 10,
     "metadata": {},
     "output_type": "execute_result"
    }
   ],
   "source": [
    "a3"
   ]
  },
  {
   "cell_type": "markdown",
   "id": "02bb13b3-6f8f-4cf1-b807-51f45eeb6118",
   "metadata": {},
   "source": [
    "# Uniformly Spaced Numbers\n",
    "Create an array containing 5 elements between the numbers 1 to 122 in such a way that the numbers 1 and 121 are part of this array and the distance between the numbers should be equal. store the array in a5 variable"
   ]
  },
  {
   "cell_type": "code",
   "execution_count": 15,
   "id": "1e3b4a2f-84e0-4e41-9758-82af6d8c1990",
   "metadata": {},
   "outputs": [],
   "source": [
    "a5 = np.linspace(1, 125, num=5)"
   ]
  },
  {
   "cell_type": "code",
   "execution_count": 16,
   "id": "35b43776-82f9-4569-93e6-b8fbb0bb0be2",
   "metadata": {},
   "outputs": [
    {
     "data": {
      "text/plain": [
       "array([  1.,  32.,  63.,  94., 125.])"
      ]
     },
     "execution_count": 16,
     "metadata": {},
     "output_type": "execute_result"
    }
   ],
   "source": [
    "a5"
   ]
  },
  {
   "cell_type": "code",
   "execution_count": null,
   "id": "3adc516f-322a-45f5-94ec-3728e2dac14f",
   "metadata": {},
   "outputs": [],
   "source": []
  }
 ],
 "metadata": {
  "kernelspec": {
   "display_name": "Python 3 (ipykernel)",
   "language": "python",
   "name": "python3"
  },
  "language_info": {
   "codemirror_mode": {
    "name": "ipython",
    "version": 3
   },
   "file_extension": ".py",
   "mimetype": "text/x-python",
   "name": "python",
   "nbconvert_exporter": "python",
   "pygments_lexer": "ipython3",
   "version": "3.8.13"
  }
 },
 "nbformat": 4,
 "nbformat_minor": 5
}
