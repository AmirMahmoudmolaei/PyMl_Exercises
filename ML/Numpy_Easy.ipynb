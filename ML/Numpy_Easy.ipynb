{
 "cells": [
  {
   "cell_type": "code",
   "execution_count": 8,
   "id": "8862a5ef-b0ce-40e6-859e-6c26e5bf44b8",
   "metadata": {},
   "outputs": [],
   "source": [
    "import numpy as np"
   ]
  },
  {
   "cell_type": "markdown",
   "id": "ae821d3e-40ee-48b3-8d4a-d7efe4647752",
   "metadata": {
    "jp-MarkdownHeadingCollapsed": true,
    "tags": []
   },
   "source": [
    "# Empty and Full Numpy Array\n",
    "#### Create a 3x4 empty numpy array\n",
    "#### Create a 3x4 full numpy array where every element is equal to 55."
   ]
  },
  {
   "cell_type": "code",
   "execution_count": 6,
   "id": "93548632-b78d-4b79-9a31-fdea8301f01c",
   "metadata": {},
   "outputs": [
    {
     "name": "stdout",
     "output_type": "stream",
     "text": [
      "[[94623256455168              0   206158430253   193273528376]\n",
      " [  227633266738   210453397588   249108103218   223338299442]\n",
      " [  219043332154   197568495670   236223201332   386547056692]]\n"
     ]
    }
   ],
   "source": [
    "empty_array = np.empty((3, 4), dtype=int)\n",
    "print(empty_array)"
   ]
  },
  {
   "cell_type": "code",
   "execution_count": 7,
   "id": "a8690c53-5a19-4911-bd2f-1102e4523dd9",
   "metadata": {},
   "outputs": [
    {
     "name": "stdout",
     "output_type": "stream",
     "text": [
      "[[55. 55. 55. 55.]\n",
      " [55. 55. 55. 55.]\n",
      " [55. 55. 55. 55.]]\n"
     ]
    }
   ],
   "source": [
    "full_array = np.full((3, 4), 55, dtype=float)\n",
    "print(full_array)"
   ]
  },
  {
   "cell_type": "markdown",
   "id": "f4309b6b-8b65-4c8d-a623-9b3bfec432c9",
   "metadata": {
    "jp-MarkdownHeadingCollapsed": true,
    "tags": []
   },
   "source": [
    "# Find Numpy Non-Zero Mean\n",
    "Find the average of non-zero elements of a = np.array([1, 0, 2, 0, 3, 0, 0, 5, 6, 7, 5, 0, 56]) ."
   ]
  },
  {
   "cell_type": "code",
   "execution_count": 30,
   "id": "8d21b1f8-f9fc-4f9a-9c6c-e1a6b175f241",
   "metadata": {},
   "outputs": [],
   "source": [
    "a = np.array([1, 0, 2, 0, 3, 0, 0, 5, 6, 7, 5, 0, 56])"
   ]
  },
  {
   "cell_type": "code",
   "execution_count": 31,
   "id": "d0aa7b60-94b9-46f4-85ff-fce8ef811fc3",
   "metadata": {},
   "outputs": [
    {
     "data": {
      "text/plain": [
       "10.625"
      ]
     },
     "execution_count": 31,
     "metadata": {},
     "output_type": "execute_result"
    }
   ],
   "source": [
    "a[a != 0].mean()"
   ]
  },
  {
   "cell_type": "markdown",
   "id": "c11aa74b-b8e0-47ea-bff6-d461d3df944f",
   "metadata": {
    "jp-MarkdownHeadingCollapsed": true,
    "tags": []
   },
   "source": [
    "# Convert Python Sequences to 3D ndarray\n",
    "Create a nested list in Python and store it in the python_list3 variable. Then create a three-dimensional ndarray using the python_list3 variable and store it in the ndarray_3d variable."
   ]
  },
  {
   "cell_type": "code",
   "execution_count": 20,
   "id": "2416b932-c3c2-4ccf-8053-ffa98702e31b",
   "metadata": {},
   "outputs": [],
   "source": [
    "python_list3 = [[[1, 2, 3], [2, 3, 5], [3, 4, 6]], [[1, 2, 3], [2, 3, 5], [3, 4, 6]], [[1, 2, 3], [2, 3, 5], [3, 4, 6]]]"
   ]
  },
  {
   "cell_type": "code",
   "execution_count": 22,
   "id": "2f6a32e7-48ea-4260-a7e5-63fafa5c19fb",
   "metadata": {},
   "outputs": [
    {
     "data": {
      "text/plain": [
       "array([[[1, 2, 3],\n",
       "        [2, 3, 5],\n",
       "        [3, 4, 6]],\n",
       "\n",
       "       [[1, 2, 3],\n",
       "        [2, 3, 5],\n",
       "        [3, 4, 6]],\n",
       "\n",
       "       [[1, 2, 3],\n",
       "        [2, 3, 5],\n",
       "        [3, 4, 6]]])"
      ]
     },
     "execution_count": 22,
     "metadata": {},
     "output_type": "execute_result"
    }
   ],
   "source": [
    "ndarray_3d = np.array(python_list3)\n",
    "ndarray_3d"
   ]
  },
  {
   "cell_type": "markdown",
   "id": "f9bb307f-aa87-49ae-a856-8af1287be0f8",
   "metadata": {
    "tags": []
   },
   "source": [
    "# An array with 4-byte elements\n",
    "Create a 2-dimensional array of size 3 x 4 named x, composed of 4-byte integer elements:"
   ]
  },
  {
   "cell_type": "code",
   "execution_count": 34,
   "id": "d8f7268d-71a7-4889-bc87-d7c6afc7c1fb",
   "metadata": {},
   "outputs": [
    {
     "data": {
      "text/plain": [
       "array([[6, 6, 6, 6],\n",
       "       [6, 6, 6, 6],\n",
       "       [6, 6, 6, 6]], dtype=int32)"
      ]
     },
     "execution_count": 34,
     "metadata": {},
     "output_type": "execute_result"
    }
   ],
   "source": [
    "np.full((3, 4) , 6, dtype='i4')"
   ]
  },
  {
   "cell_type": "code",
   "execution_count": null,
   "id": "8f53d04e-d929-472c-a07f-81cecdcc13cc",
   "metadata": {},
   "outputs": [],
   "source": []
  }
 ],
 "metadata": {
  "kernelspec": {
   "display_name": "Python 3 (ipykernel)",
   "language": "python",
   "name": "python3"
  },
  "language_info": {
   "codemirror_mode": {
    "name": "ipython",
    "version": 3
   },
   "file_extension": ".py",
   "mimetype": "text/x-python",
   "name": "python",
   "nbconvert_exporter": "python",
   "pygments_lexer": "ipython3",
   "version": "3.8.13"
  }
 },
 "nbformat": 4,
 "nbformat_minor": 5
}
